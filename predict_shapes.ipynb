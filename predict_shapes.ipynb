{
 "cells": [
  {
   "cell_type": "markdown",
   "id": "4c8dbd88",
   "metadata": {},
   "source": [
    "# Assignment 2\n",
    "\n",
    "### Om Khokhar (s3886577)\n",
    "### Lakindu Bandara Dissanayake (s3847576)\n",
    "\n",
    "## <div align=\"center\"> Classify Images of Road Traffic Signs </div>"
   ]
  },
  {
   "cell_type": "markdown",
   "id": "2349554a",
   "metadata": {},
   "source": [
    "### In this module we will be predicting the shape of the traffic signs"
   ]
  },
  {
   "cell_type": "markdown",
   "id": "b5922f70",
   "metadata": {},
   "source": [
    "## Dataset\n",
    "The dataset is a modified version of the Belgium Traffic Sign Classification Benchmark.\n",
    "The dataset consists of 28x28 gray-scale images.\n"
   ]
  },
  {
   "cell_type": "markdown",
   "id": "39b2fb41",
   "metadata": {},
   "source": [
    "#### Importing required packages"
   ]
  },
  {
   "cell_type": "code",
   "execution_count": 1,
   "id": "4e05071f",
   "metadata": {},
   "outputs": [],
   "source": [
    "import tensorflow as tf\n",
    "AUTOTUNE = tf.data.experimental.AUTOTUNE\n",
    "\n",
    "import IPython.display as display\n",
    "from PIL import Image\n",
    "import numpy as np\n",
    "import matplotlib.pyplot as plt\n",
    "import os\n",
    "\n",
    "import pandas as pd\n",
    "\n",
    "import zipfile\n",
    "\n",
    "from PIL import Image\n",
    "import glob\n",
    "\n",
    "from sklearn.model_selection import train_test_split\n",
    "from tensorflow.keras.preprocessing.image import ImageDataGenerator\n"
   ]
  },
  {
   "cell_type": "markdown",
   "id": "0475fb7f",
   "metadata": {},
   "source": [
    "Reading the data"
   ]
  },
  {
   "cell_type": "code",
   "execution_count": 2,
   "id": "a5a3e36b",
   "metadata": {},
   "outputs": [],
   "source": [
    "with zipfile.ZipFile('./trafficsigns_dataset.zip', 'r') as zip_ref:\n",
    "    zip_ref.extractall('./')"
   ]
  },
  {
   "cell_type": "markdown",
   "id": "0ab33d69",
   "metadata": {},
   "source": [
    "Splitting validaton training data"
   ]
  },
  {
   "cell_type": "code",
   "execution_count": 3,
   "id": "d56e3f85",
   "metadata": {},
   "outputs": [],
   "source": [
    "val_signs = []"
   ]
  },
  {
   "cell_type": "markdown",
   "id": "9235e31c",
   "metadata": {},
   "source": [
    "Now we iterate through the subfolders and read all the file names for the shapes of the signs and create a dataframe that can be used for training and testing "
   ]
  },
  {
   "cell_type": "code",
   "execution_count": 4,
   "id": "f566b3df",
   "metadata": {},
   "outputs": [
    {
     "data": {
      "text/html": [
       "<div>\n",
       "<style scoped>\n",
       "    .dataframe tbody tr th:only-of-type {\n",
       "        vertical-align: middle;\n",
       "    }\n",
       "\n",
       "    .dataframe tbody tr th {\n",
       "        vertical-align: top;\n",
       "    }\n",
       "\n",
       "    .dataframe thead th {\n",
       "        text-align: right;\n",
       "    }\n",
       "</style>\n",
       "<table border=\"1\" class=\"dataframe\">\n",
       "  <thead>\n",
       "    <tr style=\"text-align: right;\">\n",
       "      <th></th>\n",
       "      <th>image_path</th>\n",
       "      <th>sign_shape</th>\n",
       "      <th>isVal</th>\n",
       "    </tr>\n",
       "  </thead>\n",
       "  <tbody>\n",
       "    <tr>\n",
       "      <th>0</th>\n",
       "      <td>./trafficsigns_dataset\\diamond\\rightofway\\0003...</td>\n",
       "      <td>diamond</td>\n",
       "      <td>0</td>\n",
       "    </tr>\n",
       "    <tr>\n",
       "      <th>1</th>\n",
       "      <td>./trafficsigns_dataset\\diamond\\rightofway\\0003...</td>\n",
       "      <td>diamond</td>\n",
       "      <td>0</td>\n",
       "    </tr>\n",
       "    <tr>\n",
       "      <th>2</th>\n",
       "      <td>./trafficsigns_dataset\\diamond\\rightofway\\0003...</td>\n",
       "      <td>diamond</td>\n",
       "      <td>0</td>\n",
       "    </tr>\n",
       "    <tr>\n",
       "      <th>3</th>\n",
       "      <td>./trafficsigns_dataset\\diamond\\rightofway\\0003...</td>\n",
       "      <td>diamond</td>\n",
       "      <td>0</td>\n",
       "    </tr>\n",
       "    <tr>\n",
       "      <th>4</th>\n",
       "      <td>./trafficsigns_dataset\\diamond\\rightofway\\0003...</td>\n",
       "      <td>diamond</td>\n",
       "      <td>0</td>\n",
       "    </tr>\n",
       "  </tbody>\n",
       "</table>\n",
       "</div>"
      ],
      "text/plain": [
       "                                          image_path sign_shape  isVal\n",
       "0  ./trafficsigns_dataset\\diamond\\rightofway\\0003...    diamond      0\n",
       "1  ./trafficsigns_dataset\\diamond\\rightofway\\0003...    diamond      0\n",
       "2  ./trafficsigns_dataset\\diamond\\rightofway\\0003...    diamond      0\n",
       "3  ./trafficsigns_dataset\\diamond\\rightofway\\0003...    diamond      0\n",
       "4  ./trafficsigns_dataset\\diamond\\rightofway\\0003...    diamond      0"
      ]
     },
     "execution_count": 4,
     "metadata": {},
     "output_type": "execute_result"
    }
   ],
   "source": [
    "image_list = []\n",
    "for filepath in glob.glob('./trafficsigns_dataset\\\\*\\\\*\\\\*.png', recursive=True):\n",
    "    filename = filepath.split(\"\\\\\")[-1]\n",
    "    shape = filepath.split(\"\\\\\")[-3]#shape of sign\n",
    "    sign_type = filepath.split(\"\\\\\")[-2] #type of sign\n",
    "    polenumber = filename.split(\"_\")[-1]\n",
    "    val_train = shape in val_signs\n",
    "    image_list.append((filepath, shape, int(val_train)))\n",
    "    \n",
    "    \n",
    "#creating a dataframe    \n",
    "data = pd.DataFrame(data=image_list, columns=['image_path', 'sign_shape', 'isVal'])\n",
    "\n",
    "data['sign_shape'].unique()\n",
    "data.head()"
   ]
  },
  {
   "cell_type": "markdown",
   "id": "5304a1ee",
   "metadata": {},
   "source": [
    "We will now look at the sign shape `sign_shape` distribution "
   ]
  },
  {
   "cell_type": "code",
   "execution_count": 5,
   "id": "412cefae",
   "metadata": {},
   "outputs": [
    {
     "data": {
      "image/png": "[encoded data removed]",
      "text/plain": [
       "<Figure size 432x288 with 1 Axes>"
      ]
     },
     "metadata": {
      "needs_background": "light"
     },
     "output_type": "display_data"
    },
    {
     "data": {
      "text/html": [
       "<div>\n",
       "<style scoped>\n",
       "    .dataframe tbody tr th:only-of-type {\n",
       "        vertical-align: middle;\n",
       "    }\n",
       "\n",
       "    .dataframe tbody tr th {\n",
       "        vertical-align: top;\n",
       "    }\n",
       "\n",
       "    .dataframe thead th {\n",
       "        text-align: right;\n",
       "    }\n",
       "</style>\n",
       "<table border=\"1\" class=\"dataframe\">\n",
       "  <thead>\n",
       "    <tr style=\"text-align: right;\">\n",
       "      <th></th>\n",
       "      <th>image_path</th>\n",
       "      <th>sign_shape</th>\n",
       "      <th>isVal</th>\n",
       "    </tr>\n",
       "  </thead>\n",
       "  <tbody>\n",
       "    <tr>\n",
       "      <th>0</th>\n",
       "      <td>./trafficsigns_dataset\\diamond\\rightofway\\0003...</td>\n",
       "      <td>diamond</td>\n",
       "      <td>0</td>\n",
       "    </tr>\n",
       "    <tr>\n",
       "      <th>1</th>\n",
       "      <td>./trafficsigns_dataset\\diamond\\rightofway\\0003...</td>\n",
       "      <td>diamond</td>\n",
       "      <td>0</td>\n",
       "    </tr>\n",
       "    <tr>\n",
       "      <th>2</th>\n",
       "      <td>./trafficsigns_dataset\\diamond\\rightofway\\0003...</td>\n",
       "      <td>diamond</td>\n",
       "      <td>0</td>\n",
       "    </tr>\n",
       "    <tr>\n",
       "      <th>3</th>\n",
       "      <td>./trafficsigns_dataset\\diamond\\rightofway\\0003...</td>\n",
       "      <td>diamond</td>\n",
       "      <td>0</td>\n",
       "    </tr>\n",
       "    <tr>\n",
       "      <th>4</th>\n",
       "      <td>./trafficsigns_dataset\\diamond\\rightofway\\0003...</td>\n",
       "      <td>diamond</td>\n",
       "      <td>0</td>\n",
       "    </tr>\n",
       "  </tbody>\n",
       "</table>\n",
       "</div>"
      ],
      "text/plain": [
       "                                          image_path sign_shape  isVal\n",
       "0  ./trafficsigns_dataset\\diamond\\rightofway\\0003...    diamond      0\n",
       "1  ./trafficsigns_dataset\\diamond\\rightofway\\0003...    diamond      0\n",
       "2  ./trafficsigns_dataset\\diamond\\rightofway\\0003...    diamond      0\n",
       "3  ./trafficsigns_dataset\\diamond\\rightofway\\0003...    diamond      0\n",
       "4  ./trafficsigns_dataset\\diamond\\rightofway\\0003...    diamond      0"
      ]
     },
     "execution_count": 5,
     "metadata": {},
     "output_type": "execute_result"
    }
   ],
   "source": [
    "data.sign_shape.hist()\n",
    "#plt.rcParams[\"figure.figsize\"] = (15,15)\n",
    "plt.show()\n",
    "data.head()\n",
    "data[data['isVal']==0].head()"
   ]
  },
  {
   "cell_type": "markdown",
   "id": "8e1636ff",
   "metadata": {},
   "source": [
    "Now lets plot some images randomly and observe"
   ]
  },
  {
   "cell_type": "code",
   "execution_count": 6,
   "id": "7a1ecfa2",
   "metadata": {},
   "outputs": [
    {
     "data": {
      "image/png": "[encoded data removed]",
      "text/plain": [
       "<Figure size 1152x288 with 4 Axes>"
      ]
     },
     "metadata": {
      "needs_background": "light"
     },
     "output_type": "display_data"
    }
   ],
   "source": [
    "r_inx = np.random.choice(3000, 4)\n",
    "rand_data = data.loc[r_inx,'image_path']\n",
    "\n",
    "plt.figure(figsize=(16,4))\n",
    "for i, image_path in enumerate(rand_data):\n",
    "    im = np.asarray(Image.open(image_path))\n",
    "    plt.subplot(1,4,i+1)\n",
    "    plt.imshow(im,cmap='gray')\n",
    "    plt.axis('off')\n",
    "    \n",
    "plt.show()"
   ]
  },
  {
   "cell_type": "markdown",
   "id": "ef4e3d31",
   "metadata": {},
   "source": [
    "The labels are in strings, they need to be converted to numeric values"
   ]
  },
  {
   "cell_type": "code",
   "execution_count": 7,
   "id": "716dd7db",
   "metadata": {},
   "outputs": [],
   "source": [
    "d = {'hex':0, 'diamond':1, 'round':2, 'square':3, 'triangle':4}\n",
    "data['labels_num'] = data['sign_shape'].map(d, na_action='ignore')"
   ]
  },
  {
   "cell_type": "markdown",
   "id": "49ea4969",
   "metadata": {},
   "source": [
    "Lets now create 2 data frames `train_df` and `validation_df` for training and validating the data and afterwards pritning each ones size"
   ]
  },
  {
   "cell_type": "code",
   "execution_count": 8,
   "id": "802f155a",
   "metadata": {},
   "outputs": [
    {
     "name": "stdout",
     "output_type": "stream",
     "text": [
      "Train size: 3699, Val size: 0\n"
     ]
    }
   ],
   "source": [
    "train_df = data[data['isVal']==0].reset_index()\n",
    "validation_df = data[data['isVal']==1].reset_index()\n",
    "print('Train size: {}, Val size: {}'.format(train_df.shape[0], validation_df.shape[0] ) )\n",
    "N_train_images = train_df.shape[0]\n",
    "N_val_images = validation_df.shape[0]\n",
    "\n",
    "train_df.to_csv('SignTrainData.csv')\n",
    "validation_df.to_csv('SignValData.csv')"
   ]
  },
  {
   "cell_type": "code",
   "execution_count": 9,
   "id": "819ba89f",
   "metadata": {},
   "outputs": [
    {
     "name": "stdout",
     "output_type": "stream",
     "text": [
      "Train data : 2959, Val Data: 740\n"
     ]
    }
   ],
   "source": [
    "data = pd.read_csv('./SignTrainData.csv')\n",
    "\n",
    "train_df, validation_df = train_test_split(train_df, test_size=0.2, random_state=42)\n",
    "\n",
    "print(\"Train data : {}, Val Data: {}\".format(train_df.shape[0], validation_df.shape[0]))"
   ]
  },
  {
   "cell_type": "markdown",
   "id": "04008d9d",
   "metadata": {},
   "source": [
    "## Building the base model\n",
    "\n",
    "To build and train our nueral network we will use Keras, a high level API which is a part of tensorflow. To build the neural network we will build the layers for the model and then compile it and finally train the model"
   ]
  },
  {
   "cell_type": "markdown",
   "id": "e9f89e2e",
   "metadata": {},
   "source": [
    "### Configuring the layers\n",
    "\n",
    "We will first define the dimensions for the nueral network"
   ]
  },
  {
   "cell_type": "code",
   "execution_count": 10,
   "id": "9b116e0d",
   "metadata": {},
   "outputs": [],
   "source": [
    "INPUT_DIM = (28,28,3)\n",
    "HIDDEN_LAYER_DIM = 256\n",
    "OUTPUT_CLASSES = 5"
   ]
  },
  {
   "cell_type": "markdown",
   "id": "c09f91f2",
   "metadata": {},
   "source": [
    "We will be using the simplest model `Sequential` API for building the model"
   ]
  },
  {
   "cell_type": "code",
   "execution_count": 11,
   "id": "d5f3c3e9",
   "metadata": {},
   "outputs": [],
   "source": [
    "import tensorflow as tf\n",
    "\n",
    "model = tf.keras.Sequential([\n",
    "    tf.keras.layers.Flatten(input_shape=INPUT_DIM),\n",
    "    tf.keras.layers.Dense(HIDDEN_LAYER_DIM, activation='sigmoid'),\n",
    "    tf.keras.layers.Dense(OUTPUT_CLASSES)\n",
    "])"
   ]
  },
  {
   "cell_type": "markdown",
   "id": "2b1d1e5b",
   "metadata": {},
   "source": [
    "To transform the format of the images from 2D array to a 1D array `tf.keras.layers.Flatten` will be used. "
   ]
  },
  {
   "cell_type": "markdown",
   "id": "270d59d5",
   "metadata": {},
   "source": [
    "Using `model.summary()` we can print the model that was created"
   ]
  },
  {
   "cell_type": "code",
   "execution_count": 12,
   "id": "ca25d963",
   "metadata": {},
   "outputs": [
    {
     "name": "stdout",
     "output_type": "stream",
     "text": [
      "Model: \"sequential\"\n",
      "_________________________________________________________________\n",
      " Layer (type)                Output Shape              Param #   \n",
      "=================================================================\n",
      " flatten (Flatten)           (None, 2352)              0         \n",
      "                                                                 \n",
      " dense (Dense)               (None, 256)               602368    \n",
      "                                                                 \n",
      " dense_1 (Dense)             (None, 5)                 1285      \n",
      "                                                                 \n",
      "=================================================================\n",
      "Total params: 603,653\n",
      "Trainable params: 603,653\n",
      "Non-trainable params: 0\n",
      "_________________________________________________________________\n"
     ]
    }
   ],
   "source": [
    "model.summary()"
   ]
  },
  {
   "cell_type": "markdown",
   "id": "e17beea8",
   "metadata": {},
   "source": [
    "To further visualize we use `tf.keras.utils.plot_model`"
   ]
  },
  {
   "cell_type": "code",
   "execution_count": 13,
   "id": "5a21a1a6",
   "metadata": {},
   "outputs": [
    {
     "data": {
      "image/png": "[encoded data removed]",
      "text/plain": [
       "<IPython.core.display.Image object>"
      ]
     },
     "execution_count": 13,
     "metadata": {},
     "output_type": "execute_result"
    }
   ],
   "source": [
    "tf.keras.utils.plot_model(model, show_shapes=True)"
   ]
  },
  {
   "cell_type": "markdown",
   "id": "85c035fb",
   "metadata": {},
   "source": [
    "### Compiling the model\n",
    "\n",
    "Before training the model we will be adding the **Loss function** (to measure how accurate the model is during traning), **Optimizer** and **Metrics**.\n"
   ]
  },
  {
   "cell_type": "markdown",
   "id": "3034bd68",
   "metadata": {},
   "source": [
    "We will be using `CategoricalCrossentropy` since there are more than 2 categories in the output variable."
   ]
  },
  {
   "cell_type": "code",
   "execution_count": 14,
   "id": "678f2354",
   "metadata": {},
   "outputs": [],
   "source": [
    "model.compile(optimizer='SGD',\n",
    "              loss=tf.keras.losses.CategoricalCrossentropy(from_logits=True),\n",
    "              metrics=['categorical_accuracy'])"
   ]
  },
  {
   "cell_type": "markdown",
   "id": "0ff691b6",
   "metadata": {},
   "source": [
    "### Loading the data\n",
    "\n",
    "Since we are working with a large data set and we will need to load the data in batches to memory efficiently, this can be achieved using image data genarators within Keras.\n",
    "\n",
    "We will be taking the datagrames that we designed earlier and define a loading function. \n",
    "\n",
    "Using the the `flow_from_dataframe` function within the Keras data loader we can load a set of images directly form a pandas dataframe. Using this we are aable to load the train and validation data. \n",
    "\n",
    "To speed up the training process we use the recommended range for normalizing the pixel of 0-1. "
   ]
  },
  {
   "cell_type": "code",
   "execution_count": 15,
   "id": "cf5f6e59",
   "metadata": {},
   "outputs": [
    {
     "name": "stdout",
     "output_type": "stream",
     "text": [
      "Found 2959 validated image filenames belonging to 5 classes.\n",
      "Found 740 validated image filenames belonging to 5 classes.\n"
     ]
    }
   ],
   "source": [
    "\n",
    "\n",
    "train_datagen = ImageDataGenerator(rescale=1./255, data_format='channels_last')\n",
    "val_datagen = ImageDataGenerator(rescale=1./255, data_format='channels_last')\n",
    "\n",
    "batch_size = 32\n",
    "\n",
    "train_generator = train_datagen.flow_from_dataframe(\n",
    "        dataframe=train_df,\n",
    "        directory='./',\n",
    "        x_col=\"image_path\",\n",
    "        y_col=\"sign_shape\",\n",
    "        target_size=(28, 28),\n",
    "        batch_size=batch_size,\n",
    "        class_mode='categorical')\n",
    "\n",
    "validation_generator = val_datagen.flow_from_dataframe(\n",
    "        dataframe=validation_df,\n",
    "        directory='./',\n",
    "        x_col=\"image_path\",\n",
    "        y_col=\"sign_shape\",\n",
    "        target_size=(28, 28),\n",
    "        batch_size=batch_size,\n",
    "        class_mode='categorical')"
   ]
  },
  {
   "cell_type": "markdown",
   "id": "a7014406",
   "metadata": {},
   "source": [
    "### Training the model"
   ]
  },
  {
   "cell_type": "markdown",
   "id": "6dbf7be1",
   "metadata": {},
   "source": [
    "To train the model we use the `model.fit_generator` function within Keras."
   ]
  },
  {
   "cell_type": "code",
   "execution_count": 16,
   "id": "8f4fd09a",
   "metadata": {},
   "outputs": [
    {
     "name": "stderr",
     "output_type": "stream",
     "text": [
      "C:\\Users\\lakin\\AppData\\Local\\Temp\\ipykernel_20340\\2399507332.py:1: UserWarning: `Model.fit_generator` is deprecated and will be removed in a future version. Please use `Model.fit`, which supports generators.\n",
      "  history = model.fit_generator(train_generator, validation_data = validation_generator, epochs=150, verbose=0)\n"
     ]
    }
   ],
   "source": [
    "history = model.fit_generator(train_generator, validation_data = validation_generator, epochs=150, verbose=0)"
   ]
  },
  {
   "cell_type": "markdown",
   "id": "1ab7f2be",
   "metadata": {},
   "source": [
    "Using the `history` variable which holds the information we can plot the traing curves."
   ]
  },
  {
   "cell_type": "code",
   "execution_count": 17,
   "id": "05133c8c",
   "metadata": {},
   "outputs": [
    {
     "data": {
      "image/png": "[encoded data removed]",
      "text/plain": [
       "<Figure size 720x360 with 2 Axes>"
      ]
     },
     "metadata": {
      "needs_background": "light"
     },
     "output_type": "display_data"
    }
   ],
   "source": [
    "plt.figure(figsize=(10,5))\n",
    "plt.subplot(1,2,1)\n",
    "plt.plot(history.history['loss'], 'r--')\n",
    "plt.plot(history.history['val_loss'], 'b--')\n",
    "plt.xlabel(\"epochs\")\n",
    "plt.ylabel(\"Loss\")\n",
    "plt.legend(['train', 'val'], loc='upper left')\n",
    "\n",
    "plt.subplot(1,2,2)\n",
    "plt.plot(history.history['categorical_accuracy'], 'r--')\n",
    "plt.plot(history.history['val_categorical_accuracy'], 'b--')\n",
    "plt.xlabel(\"epochs\")\n",
    "plt.ylabel(\"Accuracy\")\n",
    "plt.legend(['train', 'val'], loc='upper left')\n",
    "plt.show()\n",
    "\n",
    "plt.show()"
   ]
  },
  {
   "cell_type": "markdown",
   "id": "0137c442",
   "metadata": {},
   "source": [
    "### Applying regularization\n",
    "\n",
    "Since the model is over fitting we will do some incremental updates to improve the model and in order to do this we will add some ridge penalty which requires us to create a new model. \n"
   ]
  },
  {
   "cell_type": "code",
   "execution_count": 18,
   "id": "31e24363",
   "metadata": {},
   "outputs": [],
   "source": [
    "reg_lambda = 0.01\n",
    "\n",
    "model_reg = tf.keras.Sequential([\n",
    "    tf.keras.layers.Flatten(input_shape=INPUT_DIM),\n",
    "    tf.keras.layers.Dense(HIDDEN_LAYER_DIM, activation='sigmoid', kernel_regularizer=tf.keras.regularizers.l2(reg_lambda)),\n",
    "    tf.keras.layers.Dense(OUTPUT_CLASSES, kernel_regularizer=tf.keras.regularizers.l2(reg_lambda))\n",
    "])"
   ]
  },
  {
   "cell_type": "code",
   "execution_count": 19,
   "id": "6eade4a5",
   "metadata": {},
   "outputs": [],
   "source": [
    "model_reg.compile(optimizer='SGD',\n",
    "              loss=tf.keras.losses.CategoricalCrossentropy(from_logits=True),\n",
    "              metrics=['categorical_accuracy'])"
   ]
  },
  {
   "cell_type": "code",
   "execution_count": 20,
   "id": "c377ad25",
   "metadata": {},
   "outputs": [
    {
     "name": "stderr",
     "output_type": "stream",
     "text": [
      "C:\\Users\\lakin\\AppData\\Local\\Temp\\ipykernel_20340\\4290883935.py:1: UserWarning: `Model.fit_generator` is deprecated and will be removed in a future version. Please use `Model.fit`, which supports generators.\n",
      "  history_reg = model_reg.fit_generator(train_generator, validation_data = validation_generator, epochs=150, verbose=0)\n"
     ]
    }
   ],
   "source": [
    "history_reg = model_reg.fit_generator(train_generator, validation_data = validation_generator, epochs=150, verbose=0)"
   ]
  },
  {
   "cell_type": "code",
   "execution_count": 21,
   "id": "6deb8995",
   "metadata": {},
   "outputs": [
    {
     "data": {
      "image/png": "[encoded data removed]",
      "text/plain": [
       "<Figure size 720x360 with 2 Axes>"
      ]
     },
     "metadata": {
      "needs_background": "light"
     },
     "output_type": "display_data"
    }
   ],
   "source": [
    "plt.figure(figsize=(10,5))\n",
    "plt.subplot(1,2,1)\n",
    "plt.plot(history_reg.history['loss'], 'r--')\n",
    "plt.plot(history_reg.history['val_loss'], 'b--')\n",
    "plt.xlabel(\"epochs\")\n",
    "plt.ylabel(\"Loss\")\n",
    "plt.legend(['train', 'val'], loc='upper left')\n",
    "\n",
    "plt.subplot(1,2,2)\n",
    "plt.plot(history_reg.history['categorical_accuracy'], 'r--')\n",
    "plt.plot(history_reg.history['val_categorical_accuracy'], 'b--')\n",
    "plt.xlabel(\"epochs\")\n",
    "plt.ylabel(\"Accuracy\")\n",
    "plt.legend(['train', 'val'], loc='upper left')\n",
    "plt.show()\n",
    "\n",
    "plt.show()"
   ]
  },
  {
   "cell_type": "markdown",
   "id": "9876ffd7",
   "metadata": {},
   "source": [
    "To further reduce over fitting we will be using Dropout. "
   ]
  },
  {
   "cell_type": "code",
   "execution_count": 22,
   "id": "900c9c33",
   "metadata": {},
   "outputs": [],
   "source": [
    "reg_lambda = 0.01\n",
    "\n",
    "model_drop = tf.keras.Sequential([\n",
    "    tf.keras.layers.Flatten(input_shape=INPUT_DIM),\n",
    "    tf.keras.layers.Dense(HIDDEN_LAYER_DIM, activation='sigmoid'),\n",
    "    tf.keras.layers.Dropout(.3),\n",
    "    tf.keras.layers.Dense(OUTPUT_CLASSES)\n",
    "])"
   ]
  },
  {
   "cell_type": "code",
   "execution_count": 23,
   "id": "a0dd17da",
   "metadata": {},
   "outputs": [],
   "source": [
    "model_drop.compile(optimizer='SGD',\n",
    "              loss=tf.keras.losses.CategoricalCrossentropy(from_logits=True),\n",
    "              metrics=['categorical_accuracy'])"
   ]
  },
  {
   "cell_type": "code",
   "execution_count": 24,
   "id": "4de9875a",
   "metadata": {},
   "outputs": [
    {
     "name": "stderr",
     "output_type": "stream",
     "text": [
      "C:\\Users\\lakin\\AppData\\Local\\Temp\\ipykernel_20340\\3593438189.py:1: UserWarning: `Model.fit_generator` is deprecated and will be removed in a future version. Please use `Model.fit`, which supports generators.\n",
      "  history_drop = model_drop.fit_generator(train_generator, validation_data = validation_generator, epochs=150, verbose=0)\n"
     ]
    }
   ],
   "source": [
    "history_drop = model_drop.fit_generator(train_generator, validation_data = validation_generator, epochs=150, verbose=0)"
   ]
  },
  {
   "cell_type": "code",
   "execution_count": 25,
   "id": "953f953c",
   "metadata": {},
   "outputs": [
    {
     "data": {
      "image/png": "[encoded data removed]",
      "text/plain": [
       "<Figure size 720x360 with 2 Axes>"
      ]
     },
     "metadata": {
      "needs_background": "light"
     },
     "output_type": "display_data"
    }
   ],
   "source": [
    "plt.figure(figsize=(10,5))\n",
    "plt.subplot(1,2,1)\n",
    "plt.plot(history_drop.history['loss'], 'r--')\n",
    "plt.plot(history_drop.history['val_loss'], 'b--')\n",
    "plt.xlabel(\"epochs\")\n",
    "plt.ylabel(\"Loss\")\n",
    "plt.legend(['train', 'val'], loc='upper left')\n",
    "\n",
    "plt.subplot(1,2,2)\n",
    "plt.plot(history_drop.history['categorical_accuracy'], 'r--')\n",
    "plt.plot(history_drop.history['val_categorical_accuracy'], 'b--')\n",
    "plt.xlabel(\"epochs\")\n",
    "plt.ylabel(\"Accuracy\")\n",
    "plt.legend(['train', 'val'], loc='upper left')\n",
    "plt.show()\n",
    "\n",
    "plt.show()"
   ]
  },
  {
   "cell_type": "code",
   "execution_count": 26,
   "id": "0362d077",
   "metadata": {},
   "outputs": [
    {
     "name": "stdout",
     "output_type": "stream",
     "text": [
      "INFO:tensorflow:Assets written to: base_model\\assets\n"
     ]
    }
   ],
   "source": [
    "#model.save(\"base_model\")"
   ]
  },
  {
   "cell_type": "code",
   "execution_count": 27,
   "id": "5c6696e0",
   "metadata": {},
   "outputs": [],
   "source": [
    "#base_model = tf.keras.models.load_model('base_model')"
   ]
  },
  {
   "cell_type": "markdown",
   "id": "c03c973c",
   "metadata": {},
   "source": [
    "### Predicting sign shapes from test set\n",
    "\n",
    "We will now create a data generator to form the test data and finally plot the data"
   ]
  },
  {
   "cell_type": "code",
   "execution_count": 28,
   "id": "cd99246f",
   "metadata": {},
   "outputs": [
    {
     "name": "stdout",
     "output_type": "stream",
     "text": [
      "Found 740 validated image filenames belonging to 5 classes.\n"
     ]
    }
   ],
   "source": [
    "test_datagen = ImageDataGenerator(rescale=1./255, data_format='channels_last')\n",
    "\n",
    "batch_size_t = 1\n",
    "\n",
    "# Here the validation is used for testing and this should be changes to a separate test set.\n",
    "test_generator = train_datagen.flow_from_dataframe(\n",
    "        dataframe=validation_df,\n",
    "        directory='./',\n",
    "        x_col=\"image_path\",\n",
    "        y_col=\"sign_shape\",\n",
    "        target_size=(28, 28),\n",
    "        batch_size=batch_size_t,\n",
    "        class_mode='categorical')"
   ]
  },
  {
   "cell_type": "code",
   "execution_count": 29,
   "id": "ea65df19",
   "metadata": {},
   "outputs": [
    {
     "data": {
      "image/png": "[encoded data removed]",
      "text/plain": [
       "<Figure size 1152x288 with 4 Axes>"
      ]
     },
     "metadata": {
      "needs_background": "light"
     },
     "output_type": "display_data"
    }
   ],
   "source": [
    "d_inv = {v: k for k, v in d.items()}\n",
    "plt.figure(figsize=(16,4))\n",
    "batches = 0\n",
    "for x,y in test_generator:\n",
    "        batches = batches + 1\n",
    "        y_hat = model_reg.predict(x, verbose=0)\n",
    "        x = np.squeeze(x)\n",
    "        if batches < 5:\n",
    "            plt.subplot(1,5,batches)\n",
    "            plt.imshow(x)\n",
    "            plt.title(\"GT-{}, Pred-{}\".format(d_inv[np.argmax(y[0])], d_inv[np.argmax(y_hat[0])] ))\n",
    "            \n",
    "        else:\n",
    "            break\n",
    "        \n",
    "        plt.axis('off')"
   ]
  },
  {
   "cell_type": "code",
   "execution_count": null,
   "id": "d7f3975c",
   "metadata": {},
   "outputs": [],
   "source": []
  }
 ],
 "metadata": {
  "kernelspec": {
   "display_name": "Python 3 (ipykernel)",
   "language": "python",
   "name": "python3"
  },
  "language_info": {
   "codemirror_mode": {
    "name": "ipython",
    "version": 3
   },
   "file_extension": ".py",
   "mimetype": "text/x-python",
   "name": "python",
   "nbconvert_exporter": "python",
   "pygments_lexer": "ipython3",
   "version": "3.10.4"
  }
 },
 "nbformat": 4,
 "nbformat_minor": 5
}
