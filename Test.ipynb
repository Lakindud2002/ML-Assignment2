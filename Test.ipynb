{
 "cells": [
  {
   "cell_type": "code",
   "execution_count": 1,
   "id": "4e05071f",
   "metadata": {},
   "outputs": [],
   "source": [
    "import tensorflow as tf\n",
    "AUTOTUNE = tf.data.experimental.AUTOTUNE\n",
    "\n",
    "import IPython.display as display\n",
    "from PIL import Image\n",
    "import numpy as np\n",
    "import matplotlib.pyplot as plt\n",
    "import os\n",
    "\n",
    "import pandas as pd\n"
   ]
  },
  {
   "cell_type": "code",
   "execution_count": 2,
   "id": "a5a3e36b",
   "metadata": {},
   "outputs": [],
   "source": [
    "import zipfile\n",
    "with zipfile.ZipFile('./trafficsigns_dataset.zip', 'r') as zip_ref:\n",
    "    zip_ref.extractall('./')"
   ]
  },
  {
   "cell_type": "code",
   "execution_count": 3,
   "id": "16c864f4",
   "metadata": {},
   "outputs": [],
   "source": [
    "val_signs = ['diamond', 'hex', 'round', 'square', 'triangle']"
   ]
  },
  {
   "cell_type": "code",
   "execution_count": 6,
   "id": "f566b3df",
   "metadata": {},
   "outputs": [
    {
     "data": {
      "text/html": [
       "<div>\n",
       "<style scoped>\n",
       "    .dataframe tbody tr th:only-of-type {\n",
       "        vertical-align: middle;\n",
       "    }\n",
       "\n",
       "    .dataframe tbody tr th {\n",
       "        vertical-align: top;\n",
       "    }\n",
       "\n",
       "    .dataframe thead th {\n",
       "        text-align: right;\n",
       "    }\n",
       "</style>\n",
       "<table border=\"1\" class=\"dataframe\">\n",
       "  <thead>\n",
       "    <tr style=\"text-align: right;\">\n",
       "      <th></th>\n",
       "      <th>image_path</th>\n",
       "      <th>label</th>\n",
       "      <th>isVal</th>\n",
       "    </tr>\n",
       "  </thead>\n",
       "  <tbody>\n",
       "    <tr>\n",
       "      <th>0</th>\n",
       "      <td>./trafficsigns_dataset\\diamond\\rightofway\\0003...</td>\n",
       "      <td>rightofway</td>\n",
       "      <td>0</td>\n",
       "    </tr>\n",
       "    <tr>\n",
       "      <th>1</th>\n",
       "      <td>./trafficsigns_dataset\\diamond\\rightofway\\0003...</td>\n",
       "      <td>rightofway</td>\n",
       "      <td>0</td>\n",
       "    </tr>\n",
       "    <tr>\n",
       "      <th>2</th>\n",
       "      <td>./trafficsigns_dataset\\diamond\\rightofway\\0003...</td>\n",
       "      <td>rightofway</td>\n",
       "      <td>0</td>\n",
       "    </tr>\n",
       "    <tr>\n",
       "      <th>3</th>\n",
       "      <td>./trafficsigns_dataset\\diamond\\rightofway\\0003...</td>\n",
       "      <td>rightofway</td>\n",
       "      <td>0</td>\n",
       "    </tr>\n",
       "    <tr>\n",
       "      <th>4</th>\n",
       "      <td>./trafficsigns_dataset\\diamond\\rightofway\\0003...</td>\n",
       "      <td>rightofway</td>\n",
       "      <td>0</td>\n",
       "    </tr>\n",
       "  </tbody>\n",
       "</table>\n",
       "</div>"
      ],
      "text/plain": [
       "                                          image_path       label  isVal\n",
       "0  ./trafficsigns_dataset\\diamond\\rightofway\\0003...  rightofway      0\n",
       "1  ./trafficsigns_dataset\\diamond\\rightofway\\0003...  rightofway      0\n",
       "2  ./trafficsigns_dataset\\diamond\\rightofway\\0003...  rightofway      0\n",
       "3  ./trafficsigns_dataset\\diamond\\rightofway\\0003...  rightofway      0\n",
       "4  ./trafficsigns_dataset\\diamond\\rightofway\\0003...  rightofway      0"
      ]
     },
     "execution_count": 6,
     "metadata": {},
     "output_type": "execute_result"
    }
   ],
   "source": [
    "from PIL import Image\n",
    "import glob\n",
    "\n",
    "image_list = []\n",
    "for filepath in glob.glob('./trafficsigns_dataset\\\\*\\\\*\\\\*.png', recursive=True):\n",
    "    filename = filepath.split(\"\\\\\")[-1]\n",
    "    shape = filepath.split(\"\\\\\")[-2]#shape of sign\n",
    "    label = filepath.split(\"\\\\\")[-2] #type of sign\n",
    "    val_train = shape in val_signs\n",
    "    image_list.append((filepath, label, int(val_train)))\n",
    "    \n",
    "data = pd.DataFrame(data=image_list, columns=['image_path', 'label', 'isVal'])\n",
    "data.head()\n",
    "data['label'].unique()\n",
    "data.head()"
   ]
  },
  {
   "cell_type": "code",
   "execution_count": null,
   "id": "412cefae",
   "metadata": {},
   "outputs": [],
   "source": [
    "data.label.hist()\n",
    "plt.rcParams[\"figure.figsize\"] = (15,15)\n",
    "plt.show()\n",
    "data.head()\n",
    "data[data['isVal']==0].head()"
   ]
  },
  {
   "cell_type": "code",
   "execution_count": null,
   "id": "7a1ecfa2",
   "metadata": {},
   "outputs": [],
   "source": [
    "r_inx = np.random.choice(100, 4)\n",
    "rand_data = data.loc[r_inx,'image_path']\n",
    "\n",
    "plt.figure(figsize=(16,4))\n",
    "for i, image_path in enumerate(rand_data):\n",
    "    im = np.asarray(Image.open(image_path))\n",
    "    plt.subplot(1,4,i+1)\n",
    "    plt.imshow(im,cmap='gray')\n",
    "    plt.axis('off')\n",
    "    \n",
    "plt.show()"
   ]
  },
  {
   "cell_type": "code",
   "execution_count": null,
   "id": "716dd7db",
   "metadata": {},
   "outputs": [],
   "source": [
    "d = {'left':0, 'right':1, 'straight':2, 'up':3}\n",
    "data['labels_num'] = data['label'].map(d, na_action='ignore')"
   ]
  },
  {
   "cell_type": "code",
   "execution_count": null,
   "id": "802f155a",
   "metadata": {},
   "outputs": [],
   "source": [
    "train_df = data[data['isVal']==0].reset_index()\n",
    "validation_df = data[data['isVal']==1].reset_index()\n",
    "print('Train size: {}, Val size: {}'.format(train_df.shape[0], validation_df.shape[0] ) )\n",
    "N_train_images = train_df.shape[0]\n",
    "N_val_images = validation_df.shape[0]\n",
    "\n",
    "train_df.to_csv('SignTrainData.csv')\n",
    "validation_df.to_csv('SignValData.csv')"
   ]
  },
  {
   "cell_type": "code",
   "execution_count": null,
   "id": "9b116e0d",
   "metadata": {},
   "outputs": [],
   "source": []
  }
 ],
 "metadata": {
  "kernelspec": {
   "display_name": "Python 3 (ipykernel)",
   "language": "python",
   "name": "python3"
  },
  "language_info": {
   "codemirror_mode": {
    "name": "ipython",
    "version": 3
   },
   "file_extension": ".py",
   "mimetype": "text/x-python",
   "name": "python",
   "nbconvert_exporter": "python",
   "pygments_lexer": "ipython3",
   "version": "3.10.4"
  }
 },
 "nbformat": 4,
 "nbformat_minor": 5
}
