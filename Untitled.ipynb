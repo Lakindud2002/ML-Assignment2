{
 "cells": [
  {
   "cell_type": "markdown",
   "id": "ec7a6408",
   "metadata": {},
   "source": [
    "## Dataset "
   ]
  },
  {
   "cell_type": "markdown",
   "id": "9822f4cc",
   "metadata": {},
   "source": [
    "The dataset was published publicly by Luis M. Candanedo, Veronique Feldheim, Dominique Deramaix, Data driven prediction models\n",
    "of energy use of appliances in a low-energy house, Energy and Buildings, Volume 140, 1 April\n",
    "2017, Pages 81-97, ISSN 0378-7788\n",
    "\n",
    "Attributes in the dataset:\n",
    "\n",
    "- T1 - Temperature in kitchen area (Celsius)\n",
    "- RH_1 - Humidity in kitchen area (in %)\n",
    "- T2 - Temperature in living room area (Celcius)\n",
    "- RH_2 - Humidity in living room area (in %)\n",
    "- T3 - Temperature in laundry room area (Celsius)\n",
    "- RH_3 - Humidity in laundry room area (in %)\n",
    "- T4 - Temperature in office room (Celsius)\n",
    "- RH_4 - Humidity in office room (in %)\n",
    "- T5 - Temperature in bathroom (Celsius)\n",
    "- RH_5 - Humidity in bathroom (in %)\n",
    "- T6 - Temperature outside the building (north side) (Celsius) \n",
    "- RH_6 - Humidity outside the building (north side) (in %) \n",
    "- T7 - Temperature in ironing room (Celsius) \n",
    "- RH_7 - Humidity in ironing room (in %)\n",
    "- T8 - Temperature in teenager room 2 (Celsius)\n",
    "- RH_8 - Humidity in teenager room 2 (in %) \n",
    "- T9 - Temperature in parents room (Celsius)\n",
    "- RH_9 - Humidity in parents room (in %)\n",
    "- To - Temperature outside (from Chievres weather station) (Celsius) \n",
    "- Pressure (from Chievres weather station) (mm Hg)\n",
    "- RH_out - Humidity outside (from Chievres weather station) (in %) \n",
    "- Wind speed (from Chievres weather station) (m/s)\n",
    "- Visibility (from Chievres weather station (km)\n",
    "- Tdewpoint (from Chievres weather station) (Â°C)\n",
    "- rv1 - Random variable 1, nondimensional \n",
    "- rv2 - Random variable 2, nondimensional \n",
    "- TARGET_Energy - energy use of Appliances and light fixtures in the house (Wh) \n",
    "\n",
    "Target variable:\n",
    "\n",
    "- Total energy use\n"
   ]
  },
  {
   "cell_type": "code",
   "execution_count": null,
   "id": "e19fdfd3",
   "metadata": {},
   "outputs": [],
   "source": []
  }
 ],
 "metadata": {
  "kernelspec": {
   "display_name": "Python 3 (ipykernel)",
   "language": "python",
   "name": "python3"
  },
  "language_info": {
   "codemirror_mode": {
    "name": "ipython",
    "version": 3
   },
   "file_extension": ".py",
   "mimetype": "text/x-python",
   "name": "python",
   "nbconvert_exporter": "python",
   "pygments_lexer": "ipython3",
   "version": "3.10.4"
  }
 },
 "nbformat": 4,
 "nbformat_minor": 5
}
